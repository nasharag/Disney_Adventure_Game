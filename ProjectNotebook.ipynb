{
 "cells": [
  {
   "cell_type": "markdown",
   "metadata": {},
   "source": [
    "# Project Description"
   ]
  },
  {
   "cell_type": "markdown",
   "metadata": {},
   "source": [
    "Welcome to my Disney Themed Adventure Game!\n",
    "\n",
    "My project is a create your own adventure game that takes you on a journey through Disney's Magical Kindom. When in the game you \n",
    "will be asked if you would like to play and if so, you will then be asked to choose a character name. Once a character is selected, you will be tasked with finding and helping Disney Princesses. You will have to make choices on your adventure and based on those choices you can go down different paths that will affect the outcome of your adventure. Goodluck and have fun!"
   ]
  },
  {
   "cell_type": "markdown",
   "metadata": {},
   "source": [
    "## Project Code\n",
    "\n",
    "If it makes sense for your project, you can have code and outputs here in the notebook as well."
   ]
  },
  {
   "cell_type": "code",
   "execution_count": null,
   "metadata": {},
   "outputs": [],
   "source": [
    "from my_module.functions import StartGame, friends_found, get_score, player_health, PlayAgain\n",
    "# from my_module.classes import ..."
   ]
  },
  {
   "cell_type": "code",
   "execution_count": null,
   "metadata": {},
   "outputs": [],
   "source": [
    "# Tests Functions\n",
    "!pytest"
   ]
  },
  {
   "cell_type": "code",
   "execution_count": null,
   "metadata": {},
   "outputs": [],
   "source": [
    "# Starts Game\n",
    "StartGame()"
   ]
  },
  {
   "cell_type": "markdown",
   "metadata": {},
   "source": [
    "#### Extra Credit (*optional*)\n",
    "\n",
    "I have no coding experience prior to this Python class. In fact, I was someone you could consider who was quite illiterate when it came to any form of technology. My coding project went above and beyond because I was able to learn and impliment coding style, conditionals, and the use of functions that affect the adventure game. This was a challenge as I have never coded in my life and I went out of my comfort zone to produce this well functioning game."
   ]
  }
 ],
 "metadata": {
  "kernelspec": {
   "display_name": "Python 3 (ipykernel)",
   "language": "python",
   "name": "python3"
  },
  "language_info": {
   "codemirror_mode": {
    "name": "ipython",
    "version": 3
   },
   "file_extension": ".py",
   "mimetype": "text/x-python",
   "name": "python",
   "nbconvert_exporter": "python",
   "pygments_lexer": "ipython3",
   "version": "3.9.5"
  }
 },
 "nbformat": 4,
 "nbformat_minor": 2
}
